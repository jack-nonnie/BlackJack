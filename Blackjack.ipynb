{
 "cells": [
  {
   "cell_type": "code",
   "execution_count": 4,
   "metadata": {},
   "outputs": [
    {
     "name": "stdout",
     "output_type": "stream",
     "text": [
      "[2, 3, 4, 5, 6, 7, 8, 9, 10, 10, 10, 10, 11]\n"
     ]
    }
   ],
   "source": [
    "cards = []\n",
    "for i in range(2,11):\n",
    "    cards.append(i)\n",
    "cards.append(10)\n",
    "cards.append(10)\n",
    "cards.append(10)\n",
    "cards.append(11)\n",
    "print(cards)"
   ]
  },
  {
   "cell_type": "code",
   "execution_count": 5,
   "metadata": {},
   "outputs": [
    {
     "name": "stdout",
     "output_type": "stream",
     "text": [
      "{21: {21: 1.0}, 20: {20: 1.0}, 19: {19: 1.0}, 18: {18: 1.0}, 17: {17: 1.0}, 16: {18: 0.07692307692307693, 19: 0.07692307692307693, 20: 0.07692307692307693, 21: 0.07692307692307693, 'bust': 0.6153846153846154, 17: 0.07692307692307693}, 15: {17: 0.08284023668639054, 18: 0.08284023668639054, 19: 0.08284023668639054, 20: 0.08284023668639054, 21: 0.08284023668639054, 'bust': 0.5857988165680473}, 14: {18: 0.08921256258534366, 19: 0.08921256258534366, 20: 0.08921256258534366, 21: 0.08921256258534366, 'bust': 0.5065999089667729, 17: 0.08921256258534366}, 13: {17: 0.09607506739960087, 18: 0.09607506739960087, 19: 0.09607506739960087, 20: 0.09607506739960087, 21: 0.09607506739960087, 'bust': 0.42358460838205947}, 12: {18: 0.10346545719957016, 19: 0.10346545719957016, 20: 0.10346545719957016, 21: 0.10346545719957016, 'bust': 0.34027573910631226, 17: 0.10346545719957016}, 11: {17: 0.11142433852261402, 18: 0.11142433852261402, 19: 0.11142433852261402, 20: 0.11142433852261402, 21: 0.3421935692918448, 'bust': 0.19012643756983136}, 10: {18: 0.11142433852261402, 19: 0.11142433852261402, 20: 0.3421935692918448, 21: 0.11142433852261402, 'bust': 0.19012643756983133, 17: 0.11142433852261402}, 9: {17: 0.11999544148589202, 18: 0.11999544148589202, 19: 0.3507646722551228, 20: 0.11999544148589202, 21: 0.060823843852755924, 'bust': 0.20475154815212604}, 8: {18: 0.3593357752184008, 19: 0.12856654444917004, 20: 0.06939494681603392, 21: 0.06939494681603392, 'bust': 0.2193766587344208, 17: 0.12856654444917004}, 7: {17: 0.36856619379423866, 18: 0.13779696302500788, 19: 0.07862536539187177, 20: 0.07862536539187177, 21: 0.07407370403547668, 'bust': 0.23512677782304586}, 6: {18: 0.1062665788702103, 19: 0.1062665788702103, 20: 0.10171491751381523, 21: 0.09716325615742014, 'bust': 0.39401373973752796, 17: 0.16543817650334638}, 5: {17: 0.1222512852705508, 18: 0.1222512852705508, 19: 0.11769962391415573, 20: 0.11314796255776065, 21: 0.10824617340471979, 'bust': 0.38348474265122673}, 4: {18: 0.12593807449320316, 19: 0.12138641313680808, 20: 0.1164846239837672, 21: 0.11123270703408057, 'bust': 0.34825416788678054, 17: 0.13048973584959825}}\n",
      "{21: {21: 1.0}, 20: {20: 1.0}, 19: {19: 1.0}, 18: {18: 1.0}, 17: {17: 1.0}, 16: {18: 0.12917581781255486, 19: 0.12917581781255486, 20: 0.12917581781255486, 21: 0.12917581781255486, 'bust': 0.33213827188935796, 17: 0.12917581781255486}, 15: {18: 0.1345607578263563, 19: 0.1345607578263563, 20: 0.1345607578263563, 21: 0.1345607578263563, 'bust': 0.3035225995858994, 17: 0.1345607578263563}, 14: {18: 0.14000979619841977, 19: 0.14000979619841977, 20: 0.14000979619841977, 21: 0.14000979619841977, 'bust': 0.263532373448517, 17: 0.14000979619841977}, 13: {18: 0.1455009306642542, 19: 0.1455009306642542, 20: 0.1455009306642542, 21: 0.1455009306642542, 'bust': 0.22567749365833267, 17: 0.1455009306642542}, 12: {18: 0.15100839471537428, 19: 0.15100839471537428, 20: 0.15100839471537428, 21: 0.15100839471537428, 'bust': 0.19122874576979662, 17: 0.15100839471537428}}\n"
     ]
    }
   ],
   "source": [
    "hardDealerCardProbs = {}\n",
    "softDealerCardProbs = {}\n",
    "def dealerTotal(dealerTotal, soft):\n",
    "    if(soft and dealerTotal in softDealerCardProbs.keys()):\n",
    "        return softDealerCardProbs[dealerTotal]\n",
    "    if(not soft and dealerTotal in hardDealerCardProbs.keys()):\n",
    "        return hardDealerCardProbs[dealerTotal]\n",
    "    hardProbabilities = {}\n",
    "    softProbabilities = {}\n",
    "    if(dealerTotal > 16):\n",
    "        hardProbabilities[dealerTotal] = 1.0\n",
    "        return hardProbabilities\n",
    "    containedAnAce = soft\n",
    "    for card in cards:\n",
    "        cardIsSoft = soft\n",
    "        if(card == 11):\n",
    "            if(cardIsSoft):\n",
    "                card = 1\n",
    "            else:\n",
    "                cardIsSoft = True\n",
    "        newTotal = card + dealerTotal\n",
    "        if(newTotal > 21):\n",
    "            if(cardIsSoft):\n",
    "                newTotal -= 10\n",
    "                hardProbabilities[newTotal] = hardProbabilities.get(newTotal, 0) + 1\n",
    "            else:\n",
    "                hardProbabilities[\"bust\"] = hardProbabilities.get(\"bust\", 0) + 1\n",
    "        else:\n",
    "            if(cardIsSoft):\n",
    "                softProbabilities[newTotal] = softProbabilities.get(newTotal, 0) + 1\n",
    "            else:\n",
    "                hardProbabilities[newTotal] = hardProbabilities.get(newTotal, 0) + 1\n",
    "    recursiveProb = {}\n",
    "    #working on fixing this\n",
    "    for key in hardProbabilities.keys():\n",
    "        hardProbabilities[key] = hardProbabilities[key] / len(cards)\n",
    "        if(key in hardDealerCardProbs.keys()):\n",
    "            for dealerKey in hardDealerCardProbs[key].keys():\n",
    "                recursiveProb[dealerKey] = recursiveProb.get(dealerKey, 0) + hardDealerCardProbs[key][dealerKey] * hardProbabilities[key]\n",
    "        else:\n",
    "            recursiveProb[key] = hardProbabilities[key]\n",
    "    for key in softProbabilities.keys():\n",
    "        softProbabilities[key] = softProbabilities[key] / len(cards)\n",
    "        if(key in softDealerCardProbs.keys()):\n",
    "            for dealerKey in softDealerCardProbs[key].keys():\n",
    "                recursiveProb[dealerKey] = recursiveProb.get(dealerKey, 0) + softDealerCardProbs[key][dealerKey] * softProbabilities[key]\n",
    "        else:\n",
    "            recursiveProb[key] = softProbabilities[key]\n",
    "    return recursiveProb\n",
    "        \n",
    "for i in range(21,1,-1):\n",
    "    if(i > 3):\n",
    "        hardDealerCardProbs[i] = dealerTotal(i, False)\n",
    "    if(i < 12):\n",
    "        softDealerCardProbs[i+10] = dealerTotal(i+10, True)\n",
    "print(hardDealerCardProbs)\n",
    "print(softDealerCardProbs)\n",
    "            \n",
    "                "
   ]
  },
  {
   "cell_type": "code",
   "execution_count": 12,
   "metadata": {},
   "outputs": [
    {
     "name": "stdout",
     "output_type": "stream",
     "text": [
      "{2: {18: 0.13490735037469445, 19: 0.1296554334250078, 20: 0.12402645577124112, 21: 0.11799348450596005, 'bust': 0.288618535400644, 17: 0.1398091395277353}, 3: {17: 0.13503398781113995, 18: 0.13048232645474486, 19: 0.125580537301704, 20: 0.12032862035201736, 21: 0.11469964269825067, 'bust': 0.3165502221785444}, 4: {18: 0.12593807449320316, 19: 0.12138641313680808, 20: 0.1164846239837672, 21: 0.11123270703408057, 'bust': 0.34825416788678054, 17: 0.13048973584959825}, 5: {17: 0.1222512852705508, 18: 0.1222512852705508, 19: 0.11769962391415573, 20: 0.11314796255776065, 21: 0.10824617340471979, 'bust': 0.38348474265122673}, 6: {18: 0.1062665788702103, 19: 0.1062665788702103, 20: 0.10171491751381523, 21: 0.09716325615742014, 'bust': 0.39401373973752796, 17: 0.16543817650334638}, 7: {17: 0.36856619379423866, 18: 0.13779696302500788, 19: 0.07862536539187177, 20: 0.07862536539187177, 21: 0.07407370403547668, 'bust': 0.23512677782304586}, 8: {18: 0.3593357752184008, 19: 0.12856654444917004, 20: 0.06939494681603392, 21: 0.06939494681603392, 'bust': 0.2193766587344208, 17: 0.12856654444917004}, 9: {17: 0.11999544148589202, 18: 0.11999544148589202, 19: 0.3507646722551228, 20: 0.11999544148589202, 21: 0.060823843852755924, 'bust': 0.20475154815212604}, 10: {18: 0.11142433852261402, 19: 0.11142433852261402, 20: 0.3421935692918448, 21: 0.11142433852261402, 'bust': 0.19012643756983133, 17: 0.11142433852261402}, 11: {18: 0.13078889978591995, 19: 0.13078889978591995, 20: 0.13078889978591995, 21: 0.36155813055515074, 'bust': 0.10123842187322336, 17: 0.13078889978591995}}\n"
     ]
    }
   ],
   "source": [
    "def dealerShowingOneCard(dealerCard):\n",
    "    soft = False\n",
    "    if(dealerCard == 11):\n",
    "        soft = True\n",
    "    probabilities = {}\n",
    "    for card in cards:\n",
    "        newTotal = dealerCard + card\n",
    "        if(newTotal > 21):\n",
    "            newTotal -= 10\n",
    "        probabilities[newTotal] = probabilities.get(newTotal, 0) + 1.0/len(cards)\n",
    "    recursiveProb = {}\n",
    "    for key in probabilities.keys():\n",
    "        if(soft or key == dealerCard + 11):\n",
    "            for dealerKey in softDealerCardProbs[key].keys():\n",
    "                recursiveProb[dealerKey] = recursiveProb.get(dealerKey, 0) + softDealerCardProbs[key][dealerKey] * probabilities[key]\n",
    "        else:\n",
    "            for dealerKey in hardDealerCardProbs[key].keys():\n",
    "                recursiveProb[dealerKey] = recursiveProb.get(dealerKey, 0) + hardDealerCardProbs[key][dealerKey] * probabilities[key]\n",
    "    return recursiveProb\n",
    "dealerShowingOneProbs = {}\n",
    "for i in range(2,12):\n",
    "    dealerShowingOneProbs[i] = dealerShowingOneCard(i)\n",
    "print(dealerShowingOneProbs)\n",
    "        "
   ]
  },
  {
   "cell_type": "code",
   "execution_count": null,
   "metadata": {},
   "outputs": [],
   "source": []
  }
 ],
 "metadata": {
  "kernelspec": {
   "display_name": "Python 3",
   "language": "python",
   "name": "python3"
  },
  "language_info": {
   "codemirror_mode": {
    "name": "ipython",
    "version": 3
   },
   "file_extension": ".py",
   "mimetype": "text/x-python",
   "name": "python",
   "nbconvert_exporter": "python",
   "pygments_lexer": "ipython3",
   "version": "3.8.5"
  }
 },
 "nbformat": 4,
 "nbformat_minor": 4
}
